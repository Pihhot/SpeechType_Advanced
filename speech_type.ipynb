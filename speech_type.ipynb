{
  "cells": [
    {
      "cell_type": "markdown",
      "metadata": {
        "id": "view-in-github",
        "colab_type": "text"
      },
      "source": [
        "<a href=\"https://colab.research.google.com/github/Pihhot/SpeechType_Advanced/blob/main/speech_type.ipynb\" target=\"_parent\"><img src=\"https://colab.research.google.com/assets/colab-badge.svg\" alt=\"Open In Colab\"/></a>"
      ]
    },
    {
      "cell_type": "code",
      "source": [
        "from pathlib import Path\n",
        "import json\n",
        "import re"
      ],
      "metadata": {
        "id": "YsMfWG35BMLa"
      },
      "id": "YsMfWG35BMLa",
      "execution_count": 35,
      "outputs": []
    },
    {
      "cell_type": "markdown",
      "source": [
        "Dowload data from github"
      ],
      "metadata": {
        "id": "sfUimBapBDkw"
      },
      "id": "sfUimBapBDkw"
    },
    {
      "cell_type": "code",
      "source": [
        "# !wget https://raw.githubusercontent.com/Pihhot/SpeechType_Advanced/main/data.json\n",
        "\n",
        "data_path = Path.cwd() / 'data.json'\n",
        "\n",
        "with open(data_path) as f:\n",
        "    data = json.load(f)"
      ],
      "metadata": {
        "id": "hpXIPecm9_SR"
      },
      "id": "hpXIPecm9_SR",
      "execution_count": 29,
      "outputs": []
    },
    {
      "cell_type": "markdown",
      "source": [
        "Cleaning Data"
      ],
      "metadata": {
        "id": "tJgI57Q2B8dR"
      },
      "id": "tJgI57Q2B8dR"
    },
    {
      "cell_type": "code",
      "source": [
        "def clear_sentence(text: str) -> str:\n",
        "    # Remove punctuations and numbers\n",
        "    text = re.sub('[^a-zA-Z]', ' ', text)\n",
        "    # Single character removal\n",
        "    text = re.sub(r\"\\s+[a-zA-Z]\\s+\", ' ', text)\n",
        "    # Removing multiple spaces\n",
        "    text = re.sub(r'\\s+', ' ', text)\n",
        "    return text.lower()\n",
        "\n",
        "data_copy = data.copy()\n",
        "train_sentences, train_classes = [], []\n",
        "test_sentences, test_classes = [], []\n",
        "skipped_s = 0\n",
        "index = 0\n",
        "for k in data_copy.keys():\n",
        "  for sentence in data_copy[k]:\n",
        "    index += 1\n",
        "    # Clean sentence\n",
        "    sentence = clear_sentence(sentence)\n",
        "    if len(sentence):\n",
        "      # Add every fifth element to test\n",
        "      if index % 7 == 0:\n",
        "        test_sentences.append(sentence)\n",
        "        test_classes.append(k)\n",
        "      else:\n",
        "        train_sentences.append(sentence)\n",
        "        train_classes.append(k)\n",
        "    else:\n",
        "      skipped_s += 1\n",
        "\n",
        "print(f'Count of train_sentences: {len(train_sentences):<10} Count of test_sentences: {len(test_sentences)}')\n",
        "print(f'Count of train_classes:   {len(train_classes):<10} Count of test_classes:   {len(test_classes):<10}')\n",
        "print(f'Count of classes in train: {len(set(train_classes)):<9} Count of classes in test: {len(set(test_classes))}')\n",
        "print(f'Skipped: {skipped_s}')    \n",
        "print(test_sentences[:10])\n"
      ],
      "metadata": {
        "colab": {
          "base_uri": "https://localhost:8080/"
        },
        "id": "SMtNipGRB8Ct",
        "outputId": "0a31517f-affa-4a98-98da-9e2bfe94c9f2"
      },
      "id": "SMtNipGRB8Ct",
      "execution_count": 47,
      "outputs": [
        {
          "output_type": "stream",
          "name": "stdout",
          "text": [
            "Count of train_sentences: 119950     Count of test_sentences: 19993\n",
            "Count of train_classes:   119950     Count of test_classes:   19993     \n",
            "Count of classes in train: 43        Count of classes in test: 43\n",
            "Skipped: 39\n",
            "['cafeteria ', 'you know something ', 'but anyway ', 'piece for uh ', 'whatever ', 'no ', ' yeah ', 'what was the spoof on top gun ', 'all right ellen ', 'but oh boy ']\n"
          ]
        }
      ]
    },
    {
      "cell_type": "markdown",
      "source": [
        "Inputs for NN"
      ],
      "metadata": {
        "id": "Rgia51eqRHVN"
      },
      "id": "Rgia51eqRHVN"
    },
    {
      "cell_type": "code",
      "source": [
        "from keras.preprocessing.text import Tokenizer, text_to_word_sequence\n",
        "from keras.utils import to_categorical, pad_sequences\n",
        "\n",
        "from sklearn.preprocessing import LabelEncoder\n",
        "import numpy as np\n",
        "\n",
        "from keras.layers import Dense, LSTM, Input, Dropout, Embedding\n",
        "from keras.models import Sequential\n",
        "from keras.optimizers import Adam"
      ],
      "metadata": {
        "id": "pEWPIMVtRKcc"
      },
      "id": "pEWPIMVtRKcc",
      "execution_count": 63,
      "outputs": []
    },
    {
      "cell_type": "markdown",
      "source": [
        "Tokenizer"
      ],
      "metadata": {
        "id": "oCbo91iEQomH"
      },
      "id": "oCbo91iEQomH"
    },
    {
      "cell_type": "code",
      "source": [
        "maxWordsCount = 5000\n",
        "tokenizer = Tokenizer(num_words=maxWordsCount, filters='!–\"—#$%&amp;()*+,-./:;<=>?@[\\\\]^_`{|}~\\t\\n\\r«»', lower=True, split=' ', char_level=False)\n",
        "tokenizer.fit_on_texts(train_sentences.copy()+test_sentences.copy())\n",
        "print(list(tokenizer.word_counts.items())[:10])"
      ],
      "metadata": {
        "colab": {
          "base_uri": "https://localhost:8080/"
        },
        "id": "th_vFP5vQqJ2",
        "outputId": "3b186e1b-d718-482a-e585-1834076bea56"
      },
      "id": "th_vFP5vQqJ2",
      "execution_count": 52,
      "outputs": [
        {
          "output_type": "stream",
          "name": "stdout",
          "text": [
            "[('ok', 531), ('y', 17800), ('uh', 29156), ('d', 12465), ('defending', 11), ('your', 2760), ('life', 573), ('but', 11834), ('no', 1776), ('gee', 92)]\n"
          ]
        }
      ]
    },
    {
      "cell_type": "markdown",
      "source": [
        "Preparing Data"
      ],
      "metadata": {
        "id": "vXI3F_XIPJ5z"
      },
      "id": "vXI3F_XIPJ5z"
    },
    {
      "cell_type": "code",
      "source": [
        "x_train, y_train = train_sentences.copy(), train_classes.copy()\n",
        "x_test, y_test = test_sentences.copy(), test_classes.copy()\n",
        "\n",
        "# Prepare text information\n",
        "max_text_len = 10\n",
        "\n",
        "x_train, x_test = tokenizer.texts_to_sequences(x_train), tokenizer.texts_to_sequences(x_test)\n",
        "x_train_pad, x_test_pad = pad_sequences(x_train, maxlen=max_text_len), pad_sequences(x_test, maxlen=max_text_len)\n",
        "\n",
        "# Prepare classes\n",
        "y_train, y_test = np.array(y_train), np.array(y_test)\n",
        "\n",
        "l_encoder = LabelEncoder()\n",
        "y_train, y_test = l_encoder.fit_transform(y_train), l_encoder.fit_transform(y_test)\n",
        "y_train, y_test = to_categorical(y_train), to_categorical(y_test)\n",
        "\n",
        "#print(x_train_pad[:5])\n",
        "#print(y_train)\n",
        "\n"
      ],
      "metadata": {
        "colab": {
          "base_uri": "https://localhost:8080/"
        },
        "id": "tXgzU29cPP_w",
        "outputId": "84d67a67-8290-49d1-e415-cda89dac088c"
      },
      "id": "tXgzU29cPP_w",
      "execution_count": 62,
      "outputs": [
        {
          "output_type": "stream",
          "name": "stdout",
          "text": [
            "[[   0    0    0    0    0    0    0  293   21    9]\n",
            " [   0    0    0    0    0    0   27 3285   91  279]\n",
            " [   0    0    0    0    0    0    0    0   30  124]\n",
            " [   0    0    0    0    0    0    0    0    0  921]\n",
            " [   0    0    0    0    0    0    0    0  207  152]]\n",
            "[[0. 0. 0. ... 0. 0. 0.]\n",
            " [0. 0. 0. ... 0. 0. 0.]\n",
            " [0. 0. 0. ... 0. 0. 0.]\n",
            " ...\n",
            " [0. 0. 0. ... 0. 0. 0.]\n",
            " [0. 0. 0. ... 0. 0. 0.]\n",
            " [0. 0. 0. ... 0. 0. 0.]]\n"
          ]
        }
      ]
    },
    {
      "cell_type": "markdown",
      "source": [
        "Create Model"
      ],
      "metadata": {
        "id": "sMFOKsarXBX-"
      },
      "id": "sMFOKsarXBX-"
    },
    {
      "cell_type": "code",
      "source": [
        "model = Sequential()\n",
        "model.add(Embedding(maxWordsCount, 128, input_length = max_text_len))\n",
        "model.add(LSTM(128, return_sequences=True))\n",
        "model.add(LSTM(64))\n",
        "model.add(Dense(43, activation='softmax'))\n",
        "model.summary()\n",
        "\n",
        "model.compile(loss='categorical_crossentropy', metrics=['accuracy'], optimizer=Adam(0.0001))"
      ],
      "metadata": {
        "id": "A-aCquKAXDDm",
        "outputId": "5dede307-6730-470e-cce6-886adc7f929f",
        "colab": {
          "base_uri": "https://localhost:8080/"
        }
      },
      "id": "A-aCquKAXDDm",
      "execution_count": 67,
      "outputs": [
        {
          "output_type": "stream",
          "name": "stdout",
          "text": [
            "Model: \"sequential_1\"\n",
            "_________________________________________________________________\n",
            " Layer (type)                Output Shape              Param #   \n",
            "=================================================================\n",
            " embedding_1 (Embedding)     (None, 10, 128)           640000    \n",
            "                                                                 \n",
            " lstm_2 (LSTM)               (None, 10, 128)           131584    \n",
            "                                                                 \n",
            " lstm_3 (LSTM)               (None, 64)                49408     \n",
            "                                                                 \n",
            " dense_1 (Dense)             (None, 43)                2795      \n",
            "                                                                 \n",
            "=================================================================\n",
            "Total params: 823,787\n",
            "Trainable params: 823,787\n",
            "Non-trainable params: 0\n",
            "_________________________________________________________________\n"
          ]
        }
      ]
    },
    {
      "cell_type": "markdown",
      "source": [
        "Fit model"
      ],
      "metadata": {
        "id": "-WhhjIYyXbbE"
      },
      "id": "-WhhjIYyXbbE"
    },
    {
      "cell_type": "code",
      "source": [
        "history = model.fit(x_train_pad, y_train, batch_size=500, epochs=50)"
      ],
      "metadata": {
        "id": "r6qBT_QcXdJk",
        "outputId": "0512689f-7980-4ff3-caef-cdd7626784df",
        "colab": {
          "base_uri": "https://localhost:8080/",
          "height": 172
        }
      },
      "id": "r6qBT_QcXdJk",
      "execution_count": 1,
      "outputs": [
        {
          "output_type": "error",
          "ename": "NameError",
          "evalue": "ignored",
          "traceback": [
            "\u001b[0;31m---------------------------------------------------------------------------\u001b[0m",
            "\u001b[0;31mNameError\u001b[0m                                 Traceback (most recent call last)",
            "\u001b[0;32m<ipython-input-1-0eeae6ade9b5>\u001b[0m in \u001b[0;36m<module>\u001b[0;34m\u001b[0m\n\u001b[0;32m----> 1\u001b[0;31m \u001b[0mhistory\u001b[0m \u001b[0;34m=\u001b[0m \u001b[0mmodel\u001b[0m\u001b[0;34m.\u001b[0m\u001b[0mfit\u001b[0m\u001b[0;34m(\u001b[0m\u001b[0mx_train_pad\u001b[0m\u001b[0;34m,\u001b[0m \u001b[0my_train\u001b[0m\u001b[0;34m,\u001b[0m \u001b[0mbatch_size\u001b[0m\u001b[0;34m=\u001b[0m\u001b[0;36m500\u001b[0m\u001b[0;34m,\u001b[0m \u001b[0mepochs\u001b[0m\u001b[0;34m=\u001b[0m\u001b[0;36m50\u001b[0m\u001b[0;34m)\u001b[0m\u001b[0;34m\u001b[0m\u001b[0;34m\u001b[0m\u001b[0m\n\u001b[0m",
            "\u001b[0;31mNameError\u001b[0m: name 'model' is not defined"
          ]
        }
      ]
    }
  ],
  "metadata": {
    "colab": {
      "provenance": [],
      "include_colab_link": true
    },
    "language_info": {
      "name": "python"
    },
    "kernelspec": {
      "name": "python3",
      "display_name": "Python 3"
    },
    "accelerator": "GPU",
    "gpuClass": "standard"
  },
  "nbformat": 4,
  "nbformat_minor": 5
}
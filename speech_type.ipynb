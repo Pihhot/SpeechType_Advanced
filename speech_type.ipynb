{
  "cells": [
    {
      "cell_type": "markdown",
      "metadata": {
        "id": "view-in-github",
        "colab_type": "text"
      },
      "source": [
        "<a href=\"https://colab.research.google.com/github/Pihhot/SpeechType_Advanced/blob/main/speech_type.ipynb\" target=\"_parent\"><img src=\"https://colab.research.google.com/assets/colab-badge.svg\" alt=\"Open In Colab\"/></a>"
      ]
    },
    {
      "cell_type": "code",
      "source": [
        "from pathlib import Path\n",
        "import json\n",
        "import re"
      ],
      "metadata": {
        "id": "YsMfWG35BMLa"
      },
      "id": "YsMfWG35BMLa",
      "execution_count": 35,
      "outputs": []
    },
    {
      "cell_type": "markdown",
      "source": [
        "Dowload data from github"
      ],
      "metadata": {
        "id": "sfUimBapBDkw"
      },
      "id": "sfUimBapBDkw"
    },
    {
      "cell_type": "code",
      "source": [
        "# !wget https://raw.githubusercontent.com/Pihhot/SpeechType_Advanced/main/data.json\n",
        "\n",
        "data_path = Path.cwd() / 'data.json'\n",
        "\n",
        "with open(data_path) as f:\n",
        "    data = json.load(f)"
      ],
      "metadata": {
        "id": "hpXIPecm9_SR"
      },
      "id": "hpXIPecm9_SR",
      "execution_count": 29,
      "outputs": []
    },
    {
      "cell_type": "markdown",
      "source": [
        "Cleaning Data"
      ],
      "metadata": {
        "id": "tJgI57Q2B8dR"
      },
      "id": "tJgI57Q2B8dR"
    },
    {
      "cell_type": "code",
      "source": [
        "def clear_sentence(text: str) -> str:\n",
        "    # Remove punctuations and numbers\n",
        "    text = re.sub('[^a-zA-Z]', ' ', text)\n",
        "    # Single character removal\n",
        "    text = re.sub(r\"\\s+[a-zA-Z]\\s+\", ' ', text)\n",
        "    # Removing multiple spaces\n",
        "    text = re.sub(r'\\s+', ' ', text)\n",
        "    return text.lower()\n",
        "\n",
        "data_copy = data.copy()\n",
        "train_sentences, train_classes = [], []\n",
        "test_sentences, test_classes = [], []\n",
        "skipped_s = 0\n",
        "index = 0\n",
        "for k in data_copy.keys():\n",
        "  for sentence in data_copy[k]:\n",
        "    index += 1\n",
        "    # Clean sentence\n",
        "    sentence = clear_sentence(sentence)\n",
        "    if len(sentence):\n",
        "      # Add every fifth element to test\n",
        "      if index % 7 == 0:\n",
        "        test_sentences.append(sentence)\n",
        "        test_classes.append(k)\n",
        "      else:\n",
        "        train_sentences.append(sentence)\n",
        "        train_classes.append(k)\n",
        "    else:\n",
        "      skipped_s += 1\n",
        "\n",
        "print(f'Count of train_sentences: {len(train_sentences):<10} Count of test_sentences: {len(test_sentences)}')\n",
        "print(f'Count of train_classes:   {len(train_classes):<10} Count of test_classes:   {len(test_classes):<10}')\n",
        "print(f'Count of classes in train: {len(set(train_classes)):<9} Count of classes in test: {len(set(test_classes))}')\n",
        "print(f'Skipped: {skipped_s}')    \n",
        "print(test_sentences[:10])\n"
      ],
      "metadata": {
        "colab": {
          "base_uri": "https://localhost:8080/"
        },
        "id": "SMtNipGRB8Ct",
        "outputId": "0a31517f-affa-4a98-98da-9e2bfe94c9f2"
      },
      "id": "SMtNipGRB8Ct",
      "execution_count": 47,
      "outputs": [
        {
          "output_type": "stream",
          "name": "stdout",
          "text": [
            "Count of train_sentences: 119950     Count of test_sentences: 19993\n",
            "Count of train_classes:   119950     Count of test_classes:   19993     \n",
            "Count of classes in train: 43        Count of classes in test: 43\n",
            "Skipped: 39\n",
            "['cafeteria ', 'you know something ', 'but anyway ', 'piece for uh ', 'whatever ', 'no ', ' yeah ', 'what was the spoof on top gun ', 'all right ellen ', 'but oh boy ']\n"
          ]
        }
      ]
    },
    {
      "cell_type": "markdown",
      "source": [
        "Preparing Data"
      ],
      "metadata": {
        "id": "vXI3F_XIPJ5z"
      },
      "id": "vXI3F_XIPJ5z"
    },
    {
      "cell_type": "code",
      "source": [
        "x_train, y_train = train_sentences.copy(), train_classes.copy()\n",
        "x_test, y_test = test_sentences.copy(), test_classes.copy()"
      ],
      "metadata": {
        "id": "tXgzU29cPP_w"
      },
      "id": "tXgzU29cPP_w",
      "execution_count": 48,
      "outputs": []
    }
  ],
  "metadata": {
    "colab": {
      "provenance": [],
      "include_colab_link": true
    },
    "language_info": {
      "name": "python"
    },
    "kernelspec": {
      "name": "python3",
      "display_name": "Python 3"
    }
  },
  "nbformat": 4,
  "nbformat_minor": 5
}
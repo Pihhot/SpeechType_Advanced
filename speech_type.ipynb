{
  "cells": [
    {
      "cell_type": "code",
      "source": [
        "from pathlib import Path"
      ],
      "metadata": {
        "id": "YsMfWG35BMLa"
      },
      "id": "YsMfWG35BMLa",
      "execution_count": 2,
      "outputs": []
    },
    {
      "cell_type": "markdown",
      "source": [
        "Dowload data from github"
      ],
      "metadata": {
        "id": "sfUimBapBDkw"
      },
      "id": "sfUimBapBDkw"
    },
    {
      "cell_type": "code",
      "source": [
        "!wget https://raw.githubusercontent.com/Pihhot/SpeechType_Advanced/main/data.json\n",
        "data_path = Path('/content/data.json')"
      ],
      "metadata": {
        "id": "hpXIPecm9_SR",
        "outputId": "684e7151-bdd8-42fe-94ff-941b3656af66",
        "colab": {
          "base_uri": "https://localhost:8080/"
        }
      },
      "id": "hpXIPecm9_SR",
      "execution_count": 9,
      "outputs": [
        {
          "output_type": "stream",
          "name": "stdout",
          "text": [
            "/content/data.json\n"
          ]
        }
      ]
    },
    {
      "cell_type": "markdown",
      "source": [
        "Preparing Data"
      ],
      "metadata": {
        "id": "tJgI57Q2B8dR"
      },
      "id": "tJgI57Q2B8dR"
    },
    {
      "cell_type": "code",
      "source": [],
      "metadata": {
        "id": "SMtNipGRB8Ct"
      },
      "id": "SMtNipGRB8Ct",
      "execution_count": null,
      "outputs": []
    }
  ],
  "metadata": {
    "colab": {
      "provenance": []
    },
    "language_info": {
      "name": "python"
    },
    "kernelspec": {
      "name": "python3",
      "display_name": "Python 3"
    }
  },
  "nbformat": 4,
  "nbformat_minor": 5
}